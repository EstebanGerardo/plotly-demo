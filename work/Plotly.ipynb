{
 "cells": [
  {
   "cell_type": "code",
   "execution_count": null,
   "metadata": {
    "ExecuteTime": {
     "end_time": "2018-08-16T02:18:57.815811Z",
     "start_time": "2018-08-16T02:18:57.810215Z"
    }
   },
   "outputs": [],
   "source": [
    "import pandas as pd\n",
    "import ipywidgets as wg\n",
    "\n",
    "from plotly import graph_objs as plgo"
   ]
  },
  {
   "cell_type": "code",
   "execution_count": null,
   "metadata": {
    "ExecuteTime": {
     "end_time": "2018-08-16T02:18:57.993549Z",
     "start_time": "2018-08-16T02:18:57.971320Z"
    }
   },
   "outputs": [],
   "source": [
    "data = pd.read_csv('pokemons.csv')\n",
    "data.id = data.id.astype(int)\n",
    "data.height = data.height.astype(int)\n",
    "data.weight = data.weight.astype(int)\n",
    "data.base_experience = data.base_experience.astype(int)"
   ]
  },
  {
   "cell_type": "markdown",
   "metadata": {},
   "source": [
    "# Plotly\n",
    "---"
   ]
  },
  {
   "cell_type": "code",
   "execution_count": null,
   "metadata": {
    "ExecuteTime": {
     "end_time": "2018-08-16T02:18:58.744777Z",
     "start_time": "2018-08-16T02:18:58.712575Z"
    },
    "scrolled": true
   },
   "outputs": [],
   "source": [
    "data.head()"
   ]
  },
  {
   "cell_type": "markdown",
   "metadata": {},
   "source": [
    "## First plot\n",
    "---"
   ]
  },
  {
   "cell_type": "code",
   "execution_count": null,
   "metadata": {
    "ExecuteTime": {
     "end_time": "2018-08-16T03:06:50.601733Z",
     "start_time": "2018-08-16T03:06:50.571763Z"
    }
   },
   "outputs": [],
   "source": [
    "exp_frame = data.groupby('type1').base_experience.mean().to_frame()\n",
    "exp_frame['std_dev'] = data.groupby('type1').base_experience.std()\n",
    "exp_frame['n_main'] = data.groupby('type1').id.count()\n",
    "exp_frame['n_sec'] = data.groupby('type2').id.count()\n",
    "exp_frame = exp_frame.sort_values('base_experience')\n",
    "exp_frame.head()"
   ]
  },
  {
   "cell_type": "code",
   "execution_count": null,
   "metadata": {},
   "outputs": [],
   "source": [
    "fig = plgo.FigureWidget()\n",
    "\n",
    "main_trace = plgo.Bar()\n",
    "main_trace.x = exp_frame.index\n",
    "main_trace.y = exp_frame.n_main\n",
    "main_trace.name = 'Main'\n",
    "main_trace.marker.color = 'rgb(25, 111, 61)'\n",
    "main_trace.yaxis = 'y1'\n",
    "fig.add_trace(main_trace)\n",
    "\n",
    "sec_trace = plgo.Bar()\n",
    "sec_trace.x = exp_frame.index\n",
    "sec_trace.y = exp_frame.n_sec\n",
    "sec_trace.name = 'Secondary'\n",
    "sec_trace.marker.color = 'rgb(34, 153, 84)'\n",
    "sec_trace.yaxis = 'y1'\n",
    "fig.add_trace(sec_trace)\n",
    "\n",
    "exp_trace = plgo.Scatter()\n",
    "# exp_trace.mode = 'markers'\n",
    "exp_trace.x = exp_frame.index\n",
    "exp_trace.y = exp_frame.base_experience\n",
    "exp_trace.name = 'Avg base exp.'\n",
    "exp_trace.marker.color = 'rgb(111, 25, 75)'\n",
    "exp_trace.yaxis = 'y2'\n",
    "\n",
    "# exp_trace.error_y.array = exp_frame.std_dev\n",
    "# exp_trace.error_y.color = 'rgb(111, 25, 75)'\n",
    "\n",
    "fig.add_trace(exp_trace)\n",
    "\n",
    "fig.layout.title = 'Pokemon Types and Subtypes'\n",
    "fig.layout.xaxis.title = 'Type'\n",
    "fig.layout.xaxis.domain = (0, 0.98)\n",
    "# fig.layout.xaxis.rangeslider.visible = True\n",
    "\n",
    "fig.layout.yaxis.title = 'N° of pokemons'\n",
    "fig.layout.barmode = 'stack'\n",
    "\n",
    "\n",
    "fig.layout['yaxis2'] = plgo.layout.YAxis()\n",
    "fig.layout.yaxis2.title = 'Experience'\n",
    "fig.layout.yaxis2.side = 'right'\n",
    "fig.layout.yaxis2.overlaying = 'y1'\n",
    "fig.layout.yaxis2.rangemode = 'tozero'\n",
    "\n",
    "fig.layout.titlefont.size = 30\n",
    "\n",
    "fig"
   ]
  },
  {
   "cell_type": "markdown",
   "metadata": {},
   "source": [
    "## Second plot\n",
    "---"
   ]
  },
  {
   "cell_type": "code",
   "execution_count": null,
   "metadata": {},
   "outputs": [],
   "source": [
    "color_lookup = {\n",
    "    'bug': '#FFD54F',\n",
    "    'poison': '#512DA8',\n",
    "    'grass': '#43A047',\n",
    "    'water': '#1976D2',\n",
    "    'electric': '#FFEE58',\n",
    "    'rock': '#795548',\n",
    "    'normal': '#FFE0B2',\n",
    "    'fire': '#FF5722',\n",
    "    'ghost': '#F3E5F5',\n",
    "    'fairy': '#FFCDD2',\n",
    "    'ground': '#BCAAA4',\n",
    "    'flying': '#F0F4C3',\n",
    "    'ice': '#B2EBF2',\n",
    "    'steel': '#B0BEC5',\n",
    "    'dark': '#000000',\n",
    "    'psychic': '#BA68C8',\n",
    "    'fighting': '#B71C1C',\n",
    "    'dragon': '#004D40',\n",
    "}"
   ]
  },
  {
   "cell_type": "code",
   "execution_count": null,
   "metadata": {},
   "outputs": [],
   "source": [
    "fig2 = plgo.FigureWidget()\n",
    "\n",
    "for elem, group in data.groupby('type1'):\n",
    "    trace = plgo.Scatter()\n",
    "    trace.name = elem\n",
    "    trace.x = group.weight\n",
    "    trace.y = group.height\n",
    "    trace.mode = 'markers'\n",
    "    \n",
    "    trace.marker.color = color_lookup[elem]\n",
    "    trace.marker.size = group.base_experience / 17\n",
    "    trace.marker.line.width = 0\n",
    "    \n",
    "    trace.hoverinfo = 'text+name'\n",
    "    trace.text = 'N°: ' + group.id.astype(str) + '<br>Name: ' + group.name\n",
    "    \n",
    "    fig2.add_trace(trace)\n",
    "    \n",
    "fig2.layout.title = 'Height vs Weight'\n",
    "fig2.layout.yaxis.title = 'Height [m]'\n",
    "fig2.layout.xaxis.title = 'Weight [Kg]'\n",
    "\n",
    "fig2.layout.hovermode = 'closest'\n",
    "fig2.layout.xaxis.type = 'log'\n",
    "fig2.layout.yaxis.type = 'log'\n",
    "\n",
    "fig2"
   ]
  },
  {
   "cell_type": "markdown",
   "metadata": {},
   "source": [
    "## Widget Integration !!\n",
    "---"
   ]
  },
  {
   "cell_type": "code",
   "execution_count": null,
   "metadata": {},
   "outputs": [],
   "source": [
    "# Widget 1\n",
    "\n",
    "slider = wg.IntSlider(\n",
    "    value = 17,\n",
    "    min = 2,\n",
    "    max = 30,\n",
    "    step = 1,\n",
    "    description = 'Scale:'\n",
    ")\n",
    "\n",
    "def change_scale(change):\n",
    "    with fig2.batch_animate():\n",
    "        for i, (elem, group) in enumerate(data.groupby('type1')):\n",
    "            fig2.data[i].marker.size = group.base_experience / change['new']\n",
    "            \n",
    "slider.observe(change_scale, names='value')\n",
    "\n",
    "# Widget 2\n",
    "\n",
    "text = wg.Text(\n",
    "    placeholder = 'Type a title for the plot.',\n",
    "    description = 'Title:'\n",
    ")\n",
    "\n",
    "def change_title(change):\n",
    "    with fig2.batch_update():\n",
    "        fig2.layout.title = change['new']\n",
    "        \n",
    "text.observe(change_title, names='value')\n",
    "\n",
    "# Widget 3\n",
    "\n",
    "flying_color = wg.ColorPicker(\n",
    "    description = 'Flying type:',\n",
    "    value = '#F0F4C3'\n",
    ")\n",
    "\n",
    "def change_color(change):\n",
    "    with fig2.batch_animate():\n",
    "        for i, (elem, group) in enumerate(data.groupby('type1')):\n",
    "            if fig2.data[i].name == 'flying':\n",
    "                fig2.data[i].marker.color = change['new']\n",
    "\n",
    "flying_color.observe(change_color, names='value')\n",
    "\n",
    "# Widget 4\n",
    "\n",
    "image = wg.HTML()\n",
    "\n",
    "def change_image(trace, points, input_device_state):\n",
    "    if len(points.point_inds) != 0:\n",
    "        poke = data[data.type1 == points.trace_name].iloc[points.point_inds[0]]\n",
    "        image.value = '<img src=\"{}\">'.format(\n",
    "            poke.image_url_shiny if input_device_state.ctrl else poke.image_url\n",
    "        )\n",
    "    \n",
    "for trace in fig2.data:\n",
    "    trace.on_hover(change_image)\n",
    "    \n",
    "# Display\n",
    "\n",
    "wg.VBox([\n",
    "    fig2,\n",
    "    wg.HBox([\n",
    "        wg.VBox([text, slider, flying_color]),\n",
    "        image\n",
    "    ])\n",
    "])"
   ]
  },
  {
   "cell_type": "markdown",
   "metadata": {},
   "source": [
    "## Figures as widgets\n",
    "---"
   ]
  },
  {
   "cell_type": "code",
   "execution_count": null,
   "metadata": {},
   "outputs": [],
   "source": [
    "type_series = exp_frame.reset_index().type1"
   ]
  },
  {
   "cell_type": "code",
   "execution_count": null,
   "metadata": {},
   "outputs": [],
   "source": [
    "def link_to_fig1(trace, points, input_device_state):\n",
    "    if len(points.point_inds) != 0:\n",
    "        with fig.batch_update():\n",
    "            for trace in fig.data:\n",
    "                trace.marker.opacity = type_series.map(\n",
    "                    lambda x: 1 if x == points.trace_name else 0.2\n",
    "                )\n",
    "            fig.data[2].line.color = 'rgba(111, 25, 75, 0.2)'\n",
    "\n",
    "for trace in fig2.data:\n",
    "    trace.on_hover(link_to_fig1)\n",
    "    \n",
    "def link_to_fig2(trace, points, input_device_state):\n",
    "    if len(points.point_inds) != 0:\n",
    "        with fig2.batch_update():\n",
    "            for t in fig2.data:\n",
    "                t.visible = True if t.name == points.xs[0] else 'legendonly'\n",
    "                \n",
    "fig.data[0].on_click(link_to_fig2)\n",
    "\n",
    "def autolink_fig1(trace, points, input_device_state):\n",
    "    if len(points.point_inds) != 0:\n",
    "        with fig.batch_update():\n",
    "            for trace in fig.data:\n",
    "                trace.marker.opacity = type_series.map(\n",
    "                    lambda x: 1 if x == points.xs[0] else 0.2\n",
    "                )\n",
    "            fig.data[2].line.color = 'rgba(111, 25, 75, 0.2)'\n",
    "            \n",
    "fig.data[0].on_hover(autolink_fig1)\n",
    "\n",
    "wg.VBox([fig, fig2])"
   ]
  }
 ],
 "metadata": {
  "kernelspec": {
   "display_name": "Python 3",
   "language": "python",
   "name": "python3"
  },
  "language_info": {
   "codemirror_mode": {
    "name": "ipython",
    "version": 3
   },
   "file_extension": ".py",
   "mimetype": "text/x-python",
   "name": "python",
   "nbconvert_exporter": "python",
   "pygments_lexer": "ipython3",
   "version": "3.6.6"
  }
 },
 "nbformat": 4,
 "nbformat_minor": 2
}
